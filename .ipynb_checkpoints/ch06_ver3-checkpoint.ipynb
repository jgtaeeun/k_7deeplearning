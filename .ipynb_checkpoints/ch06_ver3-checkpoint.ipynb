{
 "cells": [
  {
   "cell_type": "code",
   "execution_count": 2,
   "id": "8bd3e104-53e8-4624-8961-b7834eb868d7",
   "metadata": {},
   "outputs": [],
   "source": [
    "import torch\n",
    "import torch.nn as nn\n",
    "import torch.optim as optim"
   ]
  },
  {
   "cell_type": "code",
   "execution_count": 3,
   "id": "17b420c1-107e-421a-8c8b-c33bea1e1aff",
   "metadata": {},
   "outputs": [],
   "source": [
    "class LeNet5(nn.Module):\n",
    "    def __init__(self):\n",
    "        super(LeNet5, self).__init__()\n",
    "        self.features = nn.Sequential(nn.Conv2d(1, 6, 5, padding='same'),\n",
    "                       nn.ReLU(),\n",
    "                       nn.MaxPool2d(2),\n",
    "                       nn.Conv2d(6, 16, 5, padding='same'),\n",
    "                       nn.ReLU(),\n",
    "                       nn.MaxPool2d(2),\n",
    "                       nn.Conv2d(16, 126, 5, padding='same'),\n",
    "                       nn.ReLU(),\n",
    "                       nn.MaxPool2d(2))\n",
    "        self.flatten = nn.Flatten()\n",
    "        self.classifier = nn.Sequential(nn.Linear(126*3*3 , 128),\n",
    "                                        nn.ReLU(),\n",
    "                                        nn.Linear(128, 64),\n",
    "                                        nn.ReLU(),\n",
    "                                        nn.Linear(64, 10),\n",
    "                                        nn.Softmax(dim=1))\n",
    "\n",
    "    def forward(self, x):\n",
    "        x = self.features(x)\n",
    "        #print(x.shape)\n",
    "        x =self.flatten(x)\n",
    "        x = self.classifier(x)\n",
    "        return x\n"
   ]
  },
  {
   "cell_type": "code",
   "execution_count": 4,
   "id": "0b7ed31d-155b-4bc9-b0a8-088aab0d48f9",
   "metadata": {},
   "outputs": [],
   "source": [
    "model = LeNet5()"
   ]
  },
  {
   "cell_type": "code",
   "execution_count": 6,
   "id": "3be8d9c1-4ad1-48bf-b1b7-96ccb512a2cf",
   "metadata": {},
   "outputs": [
    {
     "data": {
      "text/plain": [
       "torch.Size([64, 10])"
      ]
     },
     "execution_count": 6,
     "metadata": {},
     "output_type": "execute_result"
    }
   ],
   "source": [
    "images = torch.rand(64, 1, 28, 28)\n",
    "model(images).shape"
   ]
  },
  {
   "cell_type": "code",
   "execution_count": 8,
   "id": "be5b5963-d788-49fd-8b31-1a8bfa15430c",
   "metadata": {},
   "outputs": [
    {
     "name": "stderr",
     "output_type": "stream",
     "text": [
      "C:\\Users\\user\\anaconda3\\envs\\torch-book\\Lib\\site-packages\\torchvision\\transforms\\v2\\_deprecated.py:42: UserWarning: The transform `ToTensor()` is deprecated and will be removed in a future release. Instead, please use `v2.Compose([v2.ToImage(), v2.ToDtype(torch.float32, scale=True)])`.Output is equivalent up to float precision.\n",
      "  warnings.warn(\n"
     ]
    }
   ],
   "source": [
    "import torchvision.transforms.v2 as v2\n",
    "transform = v2.Compose([\n",
    "    #v2.RandomCrop(224),\n",
    "    v2.ToTensor()\n",
    "])"
   ]
  },
  {
   "cell_type": "code",
   "execution_count": 9,
   "id": "586bb993-68f3-4f5b-9a2f-1ea047a45091",
   "metadata": {},
   "outputs": [],
   "source": [
    "from torchvision import datasets\n",
    "dataset = datasets.MNIST('data', download=False,transform=v2.ToTensor())"
   ]
  },
  {
   "cell_type": "code",
   "execution_count": 10,
   "id": "d9b645ec-afa8-42af-9715-4943b4e03862",
   "metadata": {},
   "outputs": [],
   "source": [
    "from torch.utils.data import DataLoader\n",
    "data_loader = DataLoader(dataset, batch_size=32)"
   ]
  },
  {
   "cell_type": "code",
   "execution_count": 11,
   "id": "63af0b67-cdb5-4d3b-af35-5f6de2aaab1c",
   "metadata": {},
   "outputs": [],
   "source": [
    "loss_fn = nn.CrossEntropyLoss()"
   ]
  },
  {
   "cell_type": "code",
   "execution_count": 12,
   "id": "a03882f7-ef40-4bb9-889d-ae92d19a8c17",
   "metadata": {},
   "outputs": [],
   "source": [
    "optimizer = optim.Adam(model.parameters(), lr=0.001)"
   ]
  },
  {
   "cell_type": "code",
   "execution_count": 13,
   "id": "ec1b72e2-267d-42bc-88b2-ece19ebce497",
   "metadata": {},
   "outputs": [],
   "source": [
    "epochs = 1\n",
    "\n",
    "for _ in range(epochs):\n",
    "    for X_train, y_label in data_loader:\n",
    "        optimizer.zero_grad()\n",
    "        outputs = model(X_train)\n",
    "        loss = loss_fn(outputs, y_label)\n",
    "        loss.backward()\n",
    "        optimizer.step()"
   ]
  },
  {
   "cell_type": "code",
   "execution_count": 14,
   "id": "dabee2d6-692c-4e9f-a27d-f06c522d470e",
   "metadata": {},
   "outputs": [
    {
     "name": "stdout",
     "output_type": "stream",
     "text": [
      "EPOCH 1:\n",
      "  batch 1 loss: 0.014992450475692748\n",
      "  batch 101 loss: 1.4980525851249695\n",
      "  batch 201 loss: 1.4955012357234956\n",
      "  batch 301 loss: 1.4999931013584138\n",
      "  batch 401 loss: 1.49501367688179\n",
      "  batch 501 loss: 1.4973270404338836\n",
      "  batch 601 loss: 1.4970542562007905\n",
      "  batch 701 loss: 1.492721050977707\n",
      "  batch 801 loss: 1.4888067960739135\n",
      "  batch 901 loss: 1.498580605983734\n",
      "  batch 1001 loss: 1.4973905825614928\n",
      "  batch 1101 loss: 1.490232676267624\n",
      "  batch 1201 loss: 1.490612610578537\n",
      "  batch 1301 loss: 1.492051794528961\n",
      "  batch 1401 loss: 1.4966223657131195\n",
      "  batch 1501 loss: 1.5011478567123413\n",
      "  batch 1601 loss: 1.493481184244156\n",
      "  batch 1701 loss: 1.4919752883911133\n",
      "  batch 1801 loss: 1.4938090145587921\n"
     ]
    }
   ],
   "source": [
    "EPOCHS  = 1\n",
    "for n in range(EPOCHS ):\n",
    "    print('EPOCH {}:'.format(n + 1))\n",
    "    epoch_loss = 0\n",
    "    step_loss = 0\n",
    "    for idx, (X_train, y_label) in enumerate(data_loader):\n",
    "        optimizer.zero_grad()\n",
    "        outputs = model(X_train)\n",
    "        loss = loss_fn(outputs, y_label)\n",
    "        loss.backward()\n",
    "        optimizer.step()\n",
    "        step_loss += loss.item()\n",
    "        if idx % 100 == 0:\n",
    "            epoch_loss = step_loss / 100 # loss per batch\n",
    "            print('  batch {} loss: {}'.format(idx + 1, epoch_loss))\n",
    "            step_loss = 0"
   ]
  },
  {
   "cell_type": "code",
   "execution_count": null,
   "id": "6ade8232-a000-42a5-97c2-ee8146d274b4",
   "metadata": {},
   "outputs": [],
   "source": []
  }
 ],
 "metadata": {
  "kernelspec": {
   "display_name": "Python 3 (ipykernel)",
   "language": "python",
   "name": "python3"
  },
  "language_info": {
   "codemirror_mode": {
    "name": "ipython",
    "version": 3
   },
   "file_extension": ".py",
   "mimetype": "text/x-python",
   "name": "python",
   "nbconvert_exporter": "python",
   "pygments_lexer": "ipython3",
   "version": "3.12.4"
  }
 },
 "nbformat": 4,
 "nbformat_minor": 5
}

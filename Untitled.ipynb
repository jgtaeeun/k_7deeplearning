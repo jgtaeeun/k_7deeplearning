{
 "cells": [
  {
   "cell_type": "code",
   "execution_count": 9,
   "id": "a023b8e5-29bd-44e6-810d-13f5094df627",
   "metadata": {},
   "outputs": [],
   "source": [
    "import pandas as pd\n",
    "\n",
    "# 1. CSV 파일 읽기\n",
    "df = pd.read_csv('private_code.csv',encoding='utf-8')\n",
    "\n",
    "\n",
    "\n",
    "df.to_csv('sign_code.csv', index=False,encoding='utf-8')\n"
   ]
  },
  {
   "cell_type": "code",
   "execution_count": null,
   "id": "7b404407-2cb1-4f86-8dfe-5c99e7ab9e5d",
   "metadata": {},
   "outputs": [],
   "source": []
  }
 ],
 "metadata": {
  "kernelspec": {
   "display_name": "Python 3 (ipykernel)",
   "language": "python",
   "name": "python3"
  },
  "language_info": {
   "codemirror_mode": {
    "name": "ipython",
    "version": 3
   },
   "file_extension": ".py",
   "mimetype": "text/x-python",
   "name": "python",
   "nbconvert_exporter": "python",
   "pygments_lexer": "ipython3",
   "version": "3.12.4"
  }
 },
 "nbformat": 4,
 "nbformat_minor": 5
}
